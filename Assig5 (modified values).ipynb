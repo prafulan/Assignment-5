{
 "cells": [
  {
   "cell_type": "code",
   "execution_count": 1,
   "metadata": {},
   "outputs": [
    {
     "name": "stderr",
     "output_type": "stream",
     "text": [
      "Using TensorFlow backend.\n"
     ]
    }
   ],
   "source": [
    "import keras\n",
    "from keras.models import Sequential\n",
    "from keras.layers import Conv2D, MaxPooling2D, BatchNormalization\n",
    "from keras.layers import Dense, Flatten, Dropout, Lambda\n",
    "from keras.optimizers import Adam\n",
    "from keras.preprocessing.image import ImageDataGenerator\n",
    "\n",
    "import numpy as np\n",
    "import pandas as pd\n",
    "import matplotlib.pyplot as plt\n",
    "from sklearn.model_selection import train_test_split\n",
    "%matplotlib inline"
   ]
  },
  {
   "cell_type": "code",
   "execution_count": 2,
   "metadata": {},
   "outputs": [],
   "source": [
    "from tensorflow.python.util import deprecation\n",
    "deprecation._PRINT_DEPRECATION_WARNINGS = False"
   ]
  },
  {
   "cell_type": "code",
   "execution_count": 3,
   "metadata": {},
   "outputs": [
    {
     "data": {
      "text/html": [
       "<div>\n",
       "<style scoped>\n",
       "    .dataframe tbody tr th:only-of-type {\n",
       "        vertical-align: middle;\n",
       "    }\n",
       "\n",
       "    .dataframe tbody tr th {\n",
       "        vertical-align: top;\n",
       "    }\n",
       "\n",
       "    .dataframe thead th {\n",
       "        text-align: right;\n",
       "    }\n",
       "</style>\n",
       "<table border=\"1\" class=\"dataframe\">\n",
       "  <thead>\n",
       "    <tr style=\"text-align: right;\">\n",
       "      <th></th>\n",
       "      <th>label</th>\n",
       "      <th>pixel1</th>\n",
       "      <th>pixel2</th>\n",
       "      <th>pixel3</th>\n",
       "      <th>pixel4</th>\n",
       "      <th>pixel5</th>\n",
       "      <th>pixel6</th>\n",
       "      <th>pixel7</th>\n",
       "      <th>pixel8</th>\n",
       "      <th>pixel9</th>\n",
       "      <th>...</th>\n",
       "      <th>pixel775</th>\n",
       "      <th>pixel776</th>\n",
       "      <th>pixel777</th>\n",
       "      <th>pixel778</th>\n",
       "      <th>pixel779</th>\n",
       "      <th>pixel780</th>\n",
       "      <th>pixel781</th>\n",
       "      <th>pixel782</th>\n",
       "      <th>pixel783</th>\n",
       "      <th>pixel784</th>\n",
       "    </tr>\n",
       "  </thead>\n",
       "  <tbody>\n",
       "    <tr>\n",
       "      <th>0</th>\n",
       "      <td>2</td>\n",
       "      <td>0</td>\n",
       "      <td>0</td>\n",
       "      <td>0</td>\n",
       "      <td>0</td>\n",
       "      <td>0</td>\n",
       "      <td>0</td>\n",
       "      <td>0</td>\n",
       "      <td>0</td>\n",
       "      <td>0</td>\n",
       "      <td>...</td>\n",
       "      <td>0</td>\n",
       "      <td>0</td>\n",
       "      <td>0</td>\n",
       "      <td>0</td>\n",
       "      <td>0</td>\n",
       "      <td>0</td>\n",
       "      <td>0</td>\n",
       "      <td>0</td>\n",
       "      <td>0</td>\n",
       "      <td>0</td>\n",
       "    </tr>\n",
       "    <tr>\n",
       "      <th>1</th>\n",
       "      <td>9</td>\n",
       "      <td>0</td>\n",
       "      <td>0</td>\n",
       "      <td>0</td>\n",
       "      <td>0</td>\n",
       "      <td>0</td>\n",
       "      <td>0</td>\n",
       "      <td>0</td>\n",
       "      <td>0</td>\n",
       "      <td>0</td>\n",
       "      <td>...</td>\n",
       "      <td>0</td>\n",
       "      <td>0</td>\n",
       "      <td>0</td>\n",
       "      <td>0</td>\n",
       "      <td>0</td>\n",
       "      <td>0</td>\n",
       "      <td>0</td>\n",
       "      <td>0</td>\n",
       "      <td>0</td>\n",
       "      <td>0</td>\n",
       "    </tr>\n",
       "    <tr>\n",
       "      <th>2</th>\n",
       "      <td>6</td>\n",
       "      <td>0</td>\n",
       "      <td>0</td>\n",
       "      <td>0</td>\n",
       "      <td>0</td>\n",
       "      <td>0</td>\n",
       "      <td>0</td>\n",
       "      <td>0</td>\n",
       "      <td>5</td>\n",
       "      <td>0</td>\n",
       "      <td>...</td>\n",
       "      <td>0</td>\n",
       "      <td>0</td>\n",
       "      <td>0</td>\n",
       "      <td>30</td>\n",
       "      <td>43</td>\n",
       "      <td>0</td>\n",
       "      <td>0</td>\n",
       "      <td>0</td>\n",
       "      <td>0</td>\n",
       "      <td>0</td>\n",
       "    </tr>\n",
       "    <tr>\n",
       "      <th>3</th>\n",
       "      <td>0</td>\n",
       "      <td>0</td>\n",
       "      <td>0</td>\n",
       "      <td>0</td>\n",
       "      <td>1</td>\n",
       "      <td>2</td>\n",
       "      <td>0</td>\n",
       "      <td>0</td>\n",
       "      <td>0</td>\n",
       "      <td>0</td>\n",
       "      <td>...</td>\n",
       "      <td>3</td>\n",
       "      <td>0</td>\n",
       "      <td>0</td>\n",
       "      <td>0</td>\n",
       "      <td>0</td>\n",
       "      <td>1</td>\n",
       "      <td>0</td>\n",
       "      <td>0</td>\n",
       "      <td>0</td>\n",
       "      <td>0</td>\n",
       "    </tr>\n",
       "    <tr>\n",
       "      <th>4</th>\n",
       "      <td>3</td>\n",
       "      <td>0</td>\n",
       "      <td>0</td>\n",
       "      <td>0</td>\n",
       "      <td>0</td>\n",
       "      <td>0</td>\n",
       "      <td>0</td>\n",
       "      <td>0</td>\n",
       "      <td>0</td>\n",
       "      <td>0</td>\n",
       "      <td>...</td>\n",
       "      <td>0</td>\n",
       "      <td>0</td>\n",
       "      <td>0</td>\n",
       "      <td>0</td>\n",
       "      <td>0</td>\n",
       "      <td>0</td>\n",
       "      <td>0</td>\n",
       "      <td>0</td>\n",
       "      <td>0</td>\n",
       "      <td>0</td>\n",
       "    </tr>\n",
       "  </tbody>\n",
       "</table>\n",
       "<p>5 rows × 785 columns</p>\n",
       "</div>"
      ],
      "text/plain": [
       "   label  pixel1  pixel2  pixel3  pixel4  pixel5  pixel6  pixel7  pixel8  \\\n",
       "0      2       0       0       0       0       0       0       0       0   \n",
       "1      9       0       0       0       0       0       0       0       0   \n",
       "2      6       0       0       0       0       0       0       0       5   \n",
       "3      0       0       0       0       1       2       0       0       0   \n",
       "4      3       0       0       0       0       0       0       0       0   \n",
       "\n",
       "   pixel9  ...  pixel775  pixel776  pixel777  pixel778  pixel779  pixel780  \\\n",
       "0       0  ...         0         0         0         0         0         0   \n",
       "1       0  ...         0         0         0         0         0         0   \n",
       "2       0  ...         0         0         0        30        43         0   \n",
       "3       0  ...         3         0         0         0         0         1   \n",
       "4       0  ...         0         0         0         0         0         0   \n",
       "\n",
       "   pixel781  pixel782  pixel783  pixel784  \n",
       "0         0         0         0         0  \n",
       "1         0         0         0         0  \n",
       "2         0         0         0         0  \n",
       "3         0         0         0         0  \n",
       "4         0         0         0         0  \n",
       "\n",
       "[5 rows x 785 columns]"
      ]
     },
     "execution_count": 3,
     "metadata": {},
     "output_type": "execute_result"
    }
   ],
   "source": [
    "train_df = pd.read_csv('fashion-mnist_train.csv')\n",
    "test_df = pd.read_csv('fashion-mnist_test.csv')\n",
    "\n",
    "train_df.head()"
   ]
  },
  {
   "cell_type": "code",
   "execution_count": 4,
   "metadata": {},
   "outputs": [],
   "source": [
    "# split the training and testing data into X (image) and Y (label) arrays\n",
    "\n",
    "train_data = np.array(train_df, dtype='float32')\n",
    "test_data = np.array(test_df, dtype='float32')\n",
    "\n",
    "x_train = train_data[:, 1:] / 255\n",
    "y_train = train_data[:, 0]\n",
    "\n",
    "x_test = test_data[:, 1:] / 255\n",
    "y_test = test_data[:, 0]"
   ]
  },
  {
   "cell_type": "code",
   "execution_count": 5,
   "metadata": {},
   "outputs": [
    {
     "data": {
      "text/plain": [
       "(60000, 784)"
      ]
     },
     "execution_count": 5,
     "metadata": {},
     "output_type": "execute_result"
    }
   ],
   "source": [
    "x_train.shape"
   ]
  },
  {
   "cell_type": "code",
   "execution_count": 6,
   "metadata": {},
   "outputs": [
    {
     "data": {
      "text/plain": [
       "(10000, 784)"
      ]
     },
     "execution_count": 6,
     "metadata": {},
     "output_type": "execute_result"
    }
   ],
   "source": [
    "x_test.shape"
   ]
  },
  {
   "cell_type": "code",
   "execution_count": 7,
   "metadata": {},
   "outputs": [],
   "source": [
    "# split the training data into train and validate arrays (will be used later)\n",
    "\n",
    "x_train, x_validate, y_train, y_validate = train_test_split(\n",
    "    x_train, y_train, test_size=0.2, random_state=10,\n",
    ")"
   ]
  },
  {
   "cell_type": "code",
   "execution_count": 8,
   "metadata": {},
   "outputs": [
    {
     "data": {
      "text/plain": [
       "(48000, 784)"
      ]
     },
     "execution_count": 8,
     "metadata": {},
     "output_type": "execute_result"
    }
   ],
   "source": [
    "x_train.shape"
   ]
  },
  {
   "cell_type": "code",
   "execution_count": 9,
   "metadata": {},
   "outputs": [
    {
     "data": {
      "text/plain": [
       "(12000, 784)"
      ]
     },
     "execution_count": 9,
     "metadata": {},
     "output_type": "execute_result"
    }
   ],
   "source": [
    "x_validate.shape"
   ]
  },
  {
   "cell_type": "code",
   "execution_count": 10,
   "metadata": {},
   "outputs": [],
   "source": [
    "class_labels = [\"T-shirt/top\",\"Trouser\",\"Pullover\",\"Dress\",\"Coat\",\"Sandal\",\"Shirt\",\"Sneaker\",\"Bag\",\"Ankle boot\"]"
   ]
  },
  {
   "cell_type": "code",
   "execution_count": 11,
   "metadata": {},
   "outputs": [
    {
     "data": {
      "image/png": "[encoded data removed]",
      "text/plain": [
       "<Figure size 432x288 with 1 Axes>"
      ]
     },
     "metadata": {
      "needs_background": "light"
     },
     "output_type": "display_data"
    }
   ],
   "source": [
    "image = x_train[50, :].reshape((28, 28))\n",
    "\n",
    "plt.imshow(image)\n",
    "plt.show()"
   ]
  },
  {
   "cell_type": "code",
   "execution_count": 12,
   "metadata": {},
   "outputs": [
    {
     "data": {
      "text/plain": [
       "'Sneaker'"
      ]
     },
     "execution_count": 12,
     "metadata": {},
     "output_type": "execute_result"
    }
   ],
   "source": [
    "class_labels[int(y_train[50])]"
   ]
  },
  {
   "cell_type": "markdown",
   "metadata": {},
   "source": [
    "CNN Model\n",
    "- Define\n",
    "- Compile\n",
    "- Fit"
   ]
  },
  {
   "cell_type": "code",
   "execution_count": 13,
   "metadata": {},
   "outputs": [
    {
     "name": "stdout",
     "output_type": "stream",
     "text": [
      "x_train shape: (48000, 28, 28, 1)\n",
      "x_test shape: (10000, 28, 28, 1)\n",
      "x_validate shape: (12000, 28, 28, 1)\n"
     ]
    }
   ],
   "source": [
    "batch_size = 1024\n",
    "im_shape = (28, 28, 1)\n",
    "\n",
    "x_train = x_train.reshape(x_train.shape[0], *im_shape)\n",
    "x_test = x_test.reshape(x_test.shape[0], *im_shape)\n",
    "x_validate = x_validate.reshape(x_validate.shape[0], *im_shape)\n",
    "\n",
    "print('x_train shape: {}'.format(x_train.shape))\n",
    "print('x_test shape: {}'.format(x_test.shape))\n",
    "print('x_validate shape: {}'.format(x_validate.shape))"
   ]
  },
  {
   "cell_type": "code",
   "execution_count": 14,
   "metadata": {},
   "outputs": [
    {
     "name": "stderr",
     "output_type": "stream",
     "text": [
      "WARNING: Logging before flag parsing goes to stderr.\n",
      "W0708 04:05:21.435303 140550804244288 deprecation_wrapper.py:119] From /home/praful/anaconda3/lib/python3.7/site-packages/keras/backend/tensorflow_backend.py:74: The name tf.get_default_graph is deprecated. Please use tf.compat.v1.get_default_graph instead.\n",
      "\n",
      "W0708 04:05:21.458766 140550804244288 deprecation_wrapper.py:119] From /home/praful/anaconda3/lib/python3.7/site-packages/keras/backend/tensorflow_backend.py:517: The name tf.placeholder is deprecated. Please use tf.compat.v1.placeholder instead.\n",
      "\n",
      "W0708 04:05:21.468996 140550804244288 deprecation_wrapper.py:119] From /home/praful/anaconda3/lib/python3.7/site-packages/keras/backend/tensorflow_backend.py:4138: The name tf.random_uniform is deprecated. Please use tf.random.uniform instead.\n",
      "\n",
      "W0708 04:05:21.505928 140550804244288 deprecation_wrapper.py:119] From /home/praful/anaconda3/lib/python3.7/site-packages/keras/backend/tensorflow_backend.py:3976: The name tf.nn.max_pool is deprecated. Please use tf.nn.max_pool2d instead.\n",
      "\n",
      "W0708 04:05:21.511867 140550804244288 deprecation_wrapper.py:119] From /home/praful/anaconda3/lib/python3.7/site-packages/keras/backend/tensorflow_backend.py:133: The name tf.placeholder_with_default is deprecated. Please use tf.compat.v1.placeholder_with_default instead.\n",
      "\n"
     ]
    }
   ],
   "source": [
    "# Model specifications\n",
    "\n",
    "cnn_model = Sequential([\n",
    "    Conv2D(32, kernel_size=(3, 3), activation='relu', input_shape=im_shape),\n",
    "    MaxPooling2D(pool_size=(2, 2)),\n",
    "    Dropout(0.2),\n",
    "    Flatten(),\n",
    "    Dense(32, activation='relu'),\n",
    "    Dense(10, activation='softmax')\n",
    "])"
   ]
  },
  {
   "cell_type": "code",
   "execution_count": 15,
   "metadata": {},
   "outputs": [
    {
     "name": "stderr",
     "output_type": "stream",
     "text": [
      "W0708 04:05:21.659477 140550804244288 deprecation_wrapper.py:119] From /home/praful/anaconda3/lib/python3.7/site-packages/keras/optimizers.py:790: The name tf.train.Optimizer is deprecated. Please use tf.compat.v1.train.Optimizer instead.\n",
      "\n",
      "W0708 04:05:21.666183 140550804244288 deprecation_wrapper.py:119] From /home/praful/anaconda3/lib/python3.7/site-packages/keras/backend/tensorflow_backend.py:3341: The name tf.log is deprecated. Please use tf.math.log instead.\n",
      "\n"
     ]
    }
   ],
   "source": [
    "# compile model\n",
    "\n",
    "opt = Adam(lr=0.001)\n",
    "cnn_model.compile(loss='sparse_categorical_crossentropy',\n",
    "    optimizer=opt,\n",
    "    metrics=['accuracy']\n",
    ")"
   ]
  },
  {
   "cell_type": "code",
   "execution_count": 16,
   "metadata": {},
   "outputs": [
    {
     "name": "stdout",
     "output_type": "stream",
     "text": [
      "Train on 48000 samples, validate on 12000 samples\n",
      "Epoch 1/10\n",
      "48000/48000 [==============================] - 20s 411us/step - loss: 1.0166 - acc: 0.6757 - val_loss: 0.5674 - val_acc: 0.8042\n",
      "Epoch 2/10\n",
      "48000/48000 [==============================] - 18s 380us/step - loss: 0.5066 - acc: 0.8210 - val_loss: 0.4557 - val_acc: 0.8404\n",
      "Epoch 3/10\n",
      "48000/48000 [==============================] - 15s 320us/step - loss: 0.4340 - acc: 0.8480 - val_loss: 0.4041 - val_acc: 0.8587\n",
      "Epoch 4/10\n",
      "48000/48000 [==============================] - 17s 354us/step - loss: 0.3971 - acc: 0.8609 - val_loss: 0.3758 - val_acc: 0.8684\n",
      "Epoch 5/10\n",
      "48000/48000 [==============================] - 18s 374us/step - loss: 0.3683 - acc: 0.8715 - val_loss: 0.3571 - val_acc: 0.8752\n",
      "Epoch 6/10\n",
      "48000/48000 [==============================] - 18s 367us/step - loss: 0.3517 - acc: 0.8771 - val_loss: 0.3417 - val_acc: 0.8813\n",
      "Epoch 7/10\n",
      "48000/48000 [==============================] - 17s 357us/step - loss: 0.3382 - acc: 0.8816 - val_loss: 0.3364 - val_acc: 0.8820\n",
      "Epoch 8/10\n",
      "48000/48000 [==============================] - 17s 346us/step - loss: 0.3295 - acc: 0.8837 - val_loss: 0.3306 - val_acc: 0.8830\n",
      "Epoch 9/10\n",
      "48000/48000 [==============================] - 17s 356us/step - loss: 0.3158 - acc: 0.8894 - val_loss: 0.3160 - val_acc: 0.8878\n",
      "Epoch 10/10\n",
      "48000/48000 [==============================] - 17s 353us/step - loss: 0.3084 - acc: 0.8921 - val_loss: 0.3150 - val_acc: 0.8912\n"
     ]
    },
    {
     "data": {
      "text/plain": [
       "<keras.callbacks.History at 0x7fd4452b7b00>"
      ]
     },
     "execution_count": 16,
     "metadata": {},
     "output_type": "execute_result"
    }
   ],
   "source": [
    "# training the model\n",
    "\n",
    "cnn_model.fit(\n",
    "    x_train, y_train,\n",
    "    batch_size=batch_size,\n",
    "    epochs=10,\n",
    "    verbose=1,\n",
    "    validation_data=(x_validate, y_validate)\n",
    ")"
   ]
  },
  {
   "cell_type": "code",
   "execution_count": 17,
   "metadata": {},
   "outputs": [
    {
     "name": "stdout",
     "output_type": "stream",
     "text": [
      "Test loss: 0.30887285923957825\n",
      "Test accuracy: 0.8953\n"
     ]
    }
   ],
   "source": [
    "# testing the model on test data\n",
    "\n",
    "score = cnn_model.evaluate(x_test, y_test, verbose=0)\n",
    "print('Test loss:', score[0])\n",
    "print('Test accuracy:', score[1])"
   ]
  },
  {
   "cell_type": "markdown",
   "metadata": {},
   "source": [
    "# A deeper CNN"
   ]
  },
  {
   "cell_type": "code",
   "execution_count": 18,
   "metadata": {},
   "outputs": [],
   "source": [
    "cnn2 = Sequential([\n",
    "    Conv2D(32, kernel_size=(3, 3), activation='relu', input_shape=im_shape),\n",
    "    MaxPooling2D(pool_size=(2, 2)),\n",
    "    Dropout(0.2),\n",
    "\n",
    "    Conv2D(64, kernel_size=(3, 3), activation='relu'),\n",
    "    MaxPooling2D(pool_size=(2, 2)),\n",
    "    Dropout(0.2),\n",
    "\n",
    "    Conv2D(128, kernel_size=(3, 3), activation='relu'),\n",
    "    Dropout(0.2),\n",
    "\n",
    "    Flatten(),\n",
    "\n",
    "    Dense(128, activation='relu'),\n",
    "    Dropout(0.2),\n",
    "    Dense(10, activation='softmax')\n",
    "])"
   ]
  },
  {
   "cell_type": "code",
   "execution_count": 19,
   "metadata": {},
   "outputs": [],
   "source": [
    "cnn2.compile(loss='sparse_categorical_crossentropy',\n",
    "              optimizer=opt,\n",
    "              metrics=['accuracy'])"
   ]
  },
  {
   "cell_type": "code",
   "execution_count": 20,
   "metadata": {},
   "outputs": [
    {
     "name": "stdout",
     "output_type": "stream",
     "text": [
      "Train on 48000 samples, validate on 12000 samples\n",
      "Epoch 1/10\n",
      "48000/48000 [==============================] - 35s 727us/step - loss: 0.9989 - acc: 0.6262 - val_loss: 0.5847 - val_acc: 0.7792\n",
      "Epoch 2/10\n",
      "48000/48000 [==============================] - 34s 709us/step - loss: 0.5601 - acc: 0.7854 - val_loss: 0.4685 - val_acc: 0.8242\n",
      "Epoch 3/10\n",
      "48000/48000 [==============================] - 34s 701us/step - loss: 0.4858 - acc: 0.8179 - val_loss: 0.4199 - val_acc: 0.8438\n",
      "Epoch 4/10\n",
      "48000/48000 [==============================] - 34s 700us/step - loss: 0.4398 - acc: 0.8371 - val_loss: 0.3797 - val_acc: 0.8610\n",
      "Epoch 5/10\n",
      "48000/48000 [==============================] - 34s 700us/step - loss: 0.4107 - acc: 0.8471 - val_loss: 0.3650 - val_acc: 0.8644\n",
      "Epoch 6/10\n",
      "48000/48000 [==============================] - 33s 695us/step - loss: 0.3888 - acc: 0.8572 - val_loss: 0.3399 - val_acc: 0.8764\n",
      "Epoch 7/10\n",
      "48000/48000 [==============================] - 34s 703us/step - loss: 0.3709 - acc: 0.8619 - val_loss: 0.3268 - val_acc: 0.8815\n",
      "Epoch 8/10\n",
      "48000/48000 [==============================] - 34s 701us/step - loss: 0.3540 - acc: 0.8693 - val_loss: 0.3184 - val_acc: 0.8832\n",
      "Epoch 9/10\n",
      "48000/48000 [==============================] - 33s 696us/step - loss: 0.3419 - acc: 0.8742 - val_loss: 0.3049 - val_acc: 0.8887\n",
      "Epoch 10/10\n",
      "48000/48000 [==============================] - 33s 696us/step - loss: 0.3295 - acc: 0.8781 - val_loss: 0.2931 - val_acc: 0.8914\n"
     ]
    },
    {
     "data": {
      "text/plain": [
       "<keras.callbacks.History at 0x7fd420321358>"
      ]
     },
     "execution_count": 20,
     "metadata": {},
     "output_type": "execute_result"
    }
   ],
   "source": [
    "cnn2.fit(x_train, y_train,\n",
    "          batch_size=batch_size,\n",
    "          epochs=10,\n",
    "          verbose=1,\n",
    "          validation_data=(x_validate, y_validate))"
   ]
  },
  {
   "cell_type": "code",
   "execution_count": 21,
   "metadata": {},
   "outputs": [
    {
     "name": "stdout",
     "output_type": "stream",
     "text": [
      "Train on 48000 samples, validate on 12000 samples\n",
      "Epoch 1/10\n",
      "48000/48000 [==============================] - 34s 701us/step - loss: 0.3226 - acc: 0.8801 - val_loss: 0.2848 - val_acc: 0.8960\n",
      "Epoch 2/10\n",
      "48000/48000 [==============================] - 34s 701us/step - loss: 0.3143 - acc: 0.8847 - val_loss: 0.2836 - val_acc: 0.8958\n",
      "Epoch 3/10\n",
      "48000/48000 [==============================] - 34s 703us/step - loss: 0.3078 - acc: 0.8867 - val_loss: 0.2755 - val_acc: 0.8979\n",
      "Epoch 4/10\n",
      "48000/48000 [==============================] - 33s 693us/step - loss: 0.3002 - acc: 0.8906 - val_loss: 0.2781 - val_acc: 0.8966\n",
      "Epoch 5/10\n",
      "48000/48000 [==============================] - 34s 704us/step - loss: 0.2930 - acc: 0.8925 - val_loss: 0.2660 - val_acc: 0.9024\n",
      "Epoch 6/10\n",
      "48000/48000 [==============================] - 34s 699us/step - loss: 0.2842 - acc: 0.8943 - val_loss: 0.2696 - val_acc: 0.8983\n",
      "Epoch 7/10\n",
      "48000/48000 [==============================] - 33s 684us/step - loss: 0.2826 - acc: 0.8971 - val_loss: 0.2634 - val_acc: 0.9043\n",
      "Epoch 8/10\n",
      "48000/48000 [==============================] - 28s 585us/step - loss: 0.2761 - acc: 0.8988 - val_loss: 0.2579 - val_acc: 0.9063\n",
      "Epoch 9/10\n",
      "48000/48000 [==============================] - 34s 717us/step - loss: 0.2723 - acc: 0.8993 - val_loss: 0.2547 - val_acc: 0.9070\n",
      "Epoch 10/10\n",
      "48000/48000 [==============================] - 35s 722us/step - loss: 0.2697 - acc: 0.9007 - val_loss: 0.2473 - val_acc: 0.9090\n"
     ]
    },
    {
     "data": {
      "text/plain": [
       "<keras.callbacks.History at 0x7fd41845e898>"
      ]
     },
     "execution_count": 21,
     "metadata": {},
     "output_type": "execute_result"
    }
   ],
   "source": [
    "cnn2.optimizer.lr = 0.0001\n",
    "\n",
    "cnn2.fit(x_train, y_train,\n",
    "          batch_size=batch_size,\n",
    "          epochs=10,\n",
    "          verbose=1,\n",
    "          validation_data=(x_validate, y_validate))"
   ]
  },
  {
   "cell_type": "code",
   "execution_count": 22,
   "metadata": {},
   "outputs": [
    {
     "name": "stdout",
     "output_type": "stream",
     "text": [
      "Test loss: 0.2387670115172863\n",
      "Test accuracy: 0.9125\n"
     ]
    }
   ],
   "source": [
    "score = cnn2.evaluate(x_test, y_test, verbose=0)\n",
    "print('Test loss:', score[0])\n",
    "print('Test accuracy:', score[1])"
   ]
  },
  {
   "cell_type": "markdown",
   "metadata": {},
   "source": [
    "# Model with 4 Conv Layers and Batch Norm"
   ]
  },
  {
   "cell_type": "code",
   "execution_count": 23,
   "metadata": {},
   "outputs": [],
   "source": [
    "mean_px = x_train.mean().astype(np.float32)\n",
    "std_px = x_train.std().astype(np.float32)\n",
    "def norm_input(x): return (x-mean_px)/std_px"
   ]
  },
  {
   "cell_type": "code",
   "execution_count": 24,
   "metadata": {},
   "outputs": [
    {
     "name": "stderr",
     "output_type": "stream",
     "text": [
      "W0708 04:19:31.531980 140550804244288 deprecation_wrapper.py:119] From /home/praful/anaconda3/lib/python3.7/site-packages/keras/backend/tensorflow_backend.py:1834: The name tf.nn.fused_batch_norm is deprecated. Please use tf.compat.v1.nn.fused_batch_norm instead.\n",
      "\n"
     ]
    }
   ],
   "source": [
    "cnn3 = Sequential([\n",
    "    Lambda(norm_input, input_shape=im_shape),\n",
    "    Conv2D(32, kernel_size=(3, 3), activation='relu', input_shape=im_shape),\n",
    "    BatchNormalization(),\n",
    "\n",
    "    Conv2D(32, kernel_size=(3, 3), activation='relu'),    \n",
    "    BatchNormalization(),\n",
    "    Dropout(0.25),\n",
    "\n",
    "    Conv2D(64, kernel_size=(3, 3), activation='relu'),    \n",
    "    MaxPooling2D(pool_size=(2, 2)),\n",
    "    Dropout(0.25),\n",
    "    \n",
    "    \n",
    "    Conv2D(128, kernel_size=(3, 3), activation='relu'),    \n",
    "    BatchNormalization(),\n",
    "    Dropout(0.25),\n",
    "\n",
    "    Flatten(),\n",
    "\n",
    "    Dense(512, activation='relu'),\n",
    "    BatchNormalization(),\n",
    "    Dropout(0.5),\n",
    "    Dense(128, activation='relu'),\n",
    "    BatchNormalization(),\n",
    "    Dropout(0.5),\n",
    "    Dense(10, activation='softmax')\n",
    "])"
   ]
  },
  {
   "cell_type": "code",
   "execution_count": 25,
   "metadata": {},
   "outputs": [],
   "source": [
    "cnn3.compile(loss='sparse_categorical_crossentropy',\n",
    "              optimizer=opt,\n",
    "              metrics=['accuracy'])"
   ]
  },
  {
   "cell_type": "code",
   "execution_count": 26,
   "metadata": {
    "scrolled": true
   },
   "outputs": [
    {
     "name": "stdout",
     "output_type": "stream",
     "text": [
      "Train on 48000 samples, validate on 12000 samples\n",
      "Epoch 1/10\n",
      "48000/48000 [==============================] - 249s 5ms/step - loss: 0.9473 - acc: 0.6868 - val_loss: 0.5016 - val_acc: 0.8168\n",
      "Epoch 2/10\n",
      "48000/48000 [==============================] - 246s 5ms/step - loss: 0.5724 - acc: 0.7924 - val_loss: 0.4306 - val_acc: 0.8442\n",
      "Epoch 3/10\n",
      "48000/48000 [==============================] - 246s 5ms/step - loss: 0.4956 - acc: 0.8227 - val_loss: 0.3894 - val_acc: 0.8580\n",
      "Epoch 4/10\n",
      "48000/48000 [==============================] - 246s 5ms/step - loss: 0.4478 - acc: 0.8386 - val_loss: 0.3596 - val_acc: 0.8698\n",
      "Epoch 5/10\n",
      "48000/48000 [==============================] - 247s 5ms/step - loss: 0.4193 - acc: 0.8510 - val_loss: 0.3380 - val_acc: 0.8767\n",
      "Epoch 6/10\n",
      "48000/48000 [==============================] - 247s 5ms/step - loss: 0.3891 - acc: 0.8620 - val_loss: 0.3566 - val_acc: 0.8723\n",
      "Epoch 7/10\n",
      "48000/48000 [==============================] - 248s 5ms/step - loss: 0.3698 - acc: 0.8697 - val_loss: 0.3277 - val_acc: 0.8812\n",
      "Epoch 8/10\n",
      "48000/48000 [==============================] - 247s 5ms/step - loss: 0.3536 - acc: 0.8737 - val_loss: 0.2965 - val_acc: 0.8920\n",
      "Epoch 9/10\n",
      "48000/48000 [==============================] - 247s 5ms/step - loss: 0.3430 - acc: 0.8786 - val_loss: 0.3334 - val_acc: 0.8783\n",
      "Epoch 10/10\n",
      "48000/48000 [==============================] - 247s 5ms/step - loss: 0.3234 - acc: 0.8859 - val_loss: 0.3025 - val_acc: 0.8923\n"
     ]
    },
    {
     "data": {
      "text/plain": [
       "<keras.callbacks.History at 0x7fd400478978>"
      ]
     },
     "execution_count": 26,
     "metadata": {},
     "output_type": "execute_result"
    }
   ],
   "source": [
    "cnn3.fit(x_train, y_train,\n",
    "          batch_size=batch_size,\n",
    "          epochs=10,\n",
    "          verbose=1,\n",
    "          validation_data=(x_validate, y_validate))"
   ]
  },
  {
   "cell_type": "code",
   "execution_count": 27,
   "metadata": {},
   "outputs": [],
   "source": [
    "cnn3.optimizer.lr = 0.0001"
   ]
  },
  {
   "cell_type": "code",
   "execution_count": 28,
   "metadata": {},
   "outputs": [
    {
     "name": "stdout",
     "output_type": "stream",
     "text": [
      "Train on 48000 samples, validate on 12000 samples\n",
      "Epoch 1/10\n",
      "48000/48000 [==============================] - 248s 5ms/step - loss: 0.3180 - acc: 0.8854 - val_loss: 0.2868 - val_acc: 0.8976\n",
      "Epoch 2/10\n",
      "48000/48000 [==============================] - 246s 5ms/step - loss: 0.3084 - acc: 0.8893 - val_loss: 0.2761 - val_acc: 0.9008\n",
      "Epoch 3/10\n",
      "48000/48000 [==============================] - 247s 5ms/step - loss: 0.3008 - acc: 0.8938 - val_loss: 0.2688 - val_acc: 0.9042\n",
      "Epoch 4/10\n",
      "48000/48000 [==============================] - 246s 5ms/step - loss: 0.2928 - acc: 0.8963 - val_loss: 0.2601 - val_acc: 0.9077\n",
      "Epoch 5/10\n",
      "48000/48000 [==============================] - 246s 5ms/step - loss: 0.2857 - acc: 0.8978 - val_loss: 0.2590 - val_acc: 0.9087\n",
      "Epoch 6/10\n",
      "48000/48000 [==============================] - 247s 5ms/step - loss: 0.2787 - acc: 0.9010 - val_loss: 0.2533 - val_acc: 0.9108\n",
      "Epoch 7/10\n",
      "48000/48000 [==============================] - 245s 5ms/step - loss: 0.2755 - acc: 0.9023 - val_loss: 0.2621 - val_acc: 0.9073\n",
      "Epoch 8/10\n",
      "48000/48000 [==============================] - 247s 5ms/step - loss: 0.2697 - acc: 0.9025 - val_loss: 0.2502 - val_acc: 0.9107\n",
      "Epoch 9/10\n",
      "48000/48000 [==============================] - 245s 5ms/step - loss: 0.2627 - acc: 0.9068 - val_loss: 0.2413 - val_acc: 0.9138\n",
      "Epoch 10/10\n",
      "48000/48000 [==============================] - 233s 5ms/step - loss: 0.2558 - acc: 0.9088 - val_loss: 0.2443 - val_acc: 0.9139\n"
     ]
    },
    {
     "data": {
      "text/plain": [
       "<keras.callbacks.History at 0x7fd3f8568048>"
      ]
     },
     "execution_count": 28,
     "metadata": {},
     "output_type": "execute_result"
    }
   ],
   "source": [
    "cnn3.fit(x_train, y_train,\n",
    "          batch_size=batch_size,\n",
    "          epochs=10,\n",
    "          verbose=1,\n",
    "          validation_data=(x_validate, y_validate))"
   ]
  },
  {
   "cell_type": "code",
   "execution_count": 29,
   "metadata": {},
   "outputs": [
    {
     "name": "stdout",
     "output_type": "stream",
     "text": [
      "Test loss: 0.23871485885977745\n",
      "Test accuracy: 0.9148\n"
     ]
    }
   ],
   "source": [
    "score = cnn3.evaluate(x_test, y_test, verbose=0)\n",
    "print('Test loss:', score[0])\n",
    "print('Test accuracy:', score[1])"
   ]
  },
  {
   "cell_type": "markdown",
   "metadata": {},
   "source": [
    "With Data Augmentation"
   ]
  },
  {
   "cell_type": "code",
   "execution_count": 30,
   "metadata": {},
   "outputs": [],
   "source": [
    "gen = ImageDataGenerator(rotation_range=10, width_shift_range=0.08, shear_range=0.3,\n",
    "                               height_shift_range=0.08, zoom_range=0.1, horizontal_flip=True)\n",
    "batches = gen.flow(x_train, y_train, batch_size=batch_size)\n",
    "val_batches = gen.flow(x_validate, y_validate, batch_size=batch_size)"
   ]
  },
  {
   "cell_type": "code",
   "execution_count": 33,
   "metadata": {},
   "outputs": [
    {
     "name": "stdout",
     "output_type": "stream",
     "text": [
      "Epoch 1/50\n",
      "46/46 [==============================] - 249s 5s/step - loss: 0.5807 - acc: 0.7955 - val_loss: 0.4984 - val_acc: 0.8222\n",
      "Epoch 2/50\n",
      "46/46 [==============================] - 247s 5s/step - loss: 0.5092 - acc: 0.8164 - val_loss: 0.4848 - val_acc: 0.8284\n",
      "Epoch 3/50\n",
      "46/46 [==============================] - 244s 5s/step - loss: 0.4874 - acc: 0.8251 - val_loss: 0.4696 - val_acc: 0.8274\n",
      "Epoch 4/50\n",
      "46/46 [==============================] - 246s 5s/step - loss: 0.4630 - acc: 0.8309 - val_loss: 0.4591 - val_acc: 0.8361\n",
      "Epoch 5/50\n",
      "46/46 [==============================] - 1971s 43s/step - loss: 0.4599 - acc: 0.8323 - val_loss: 0.4443 - val_acc: 0.8386\n",
      "Epoch 6/50\n",
      "46/46 [==============================] - 248s 5s/step - loss: 0.4432 - acc: 0.8401 - val_loss: 0.4174 - val_acc: 0.8482\n",
      "Epoch 7/50\n",
      "46/46 [==============================] - 248s 5s/step - loss: 0.4359 - acc: 0.8413 - val_loss: 0.4096 - val_acc: 0.8513\n",
      "Epoch 8/50\n",
      "46/46 [==============================] - 247s 5s/step - loss: 0.4305 - acc: 0.8454 - val_loss: 0.3914 - val_acc: 0.8577\n",
      "Epoch 9/50\n",
      "46/46 [==============================] - 252s 5s/step - loss: 0.4174 - acc: 0.8485 - val_loss: 0.3929 - val_acc: 0.8587\n",
      "Epoch 10/50\n",
      "46/46 [==============================] - 246s 5s/step - loss: 0.4155 - acc: 0.8490 - val_loss: 0.3850 - val_acc: 0.8617\n",
      "Epoch 11/50\n",
      "46/46 [==============================] - 247s 5s/step - loss: 0.4063 - acc: 0.8532 - val_loss: 0.3646 - val_acc: 0.8653\n",
      "Epoch 12/50\n",
      "46/46 [==============================] - 248s 5s/step - loss: 0.4038 - acc: 0.8531 - val_loss: 0.3790 - val_acc: 0.8595\n",
      "Epoch 13/50\n",
      "46/46 [==============================] - 248s 5s/step - loss: 0.4039 - acc: 0.8530 - val_loss: 0.3716 - val_acc: 0.8642\n",
      "Epoch 14/50\n",
      "46/46 [==============================] - 246s 5s/step - loss: 0.3950 - acc: 0.8560 - val_loss: 0.3617 - val_acc: 0.8708\n",
      "Epoch 15/50\n",
      "46/46 [==============================] - 245s 5s/step - loss: 0.3961 - acc: 0.8561 - val_loss: 0.3440 - val_acc: 0.8794\n",
      "Epoch 16/50\n",
      "46/46 [==============================] - 347s 8s/step - loss: 0.3869 - acc: 0.8607 - val_loss: 0.3381 - val_acc: 0.8774\n",
      "Epoch 17/50\n",
      "46/46 [==============================] - 245s 5s/step - loss: 0.3810 - acc: 0.8630 - val_loss: 0.3743 - val_acc: 0.8654\n",
      "Epoch 18/50\n",
      "46/46 [==============================] - 244s 5s/step - loss: 0.3817 - acc: 0.8617 - val_loss: 0.3392 - val_acc: 0.8771\n",
      "Epoch 19/50\n",
      "46/46 [==============================] - 244s 5s/step - loss: 0.3794 - acc: 0.8620 - val_loss: 0.3562 - val_acc: 0.8708\n",
      "Epoch 20/50\n",
      "46/46 [==============================] - 2223s 48s/step - loss: 0.3691 - acc: 0.8666 - val_loss: 0.3308 - val_acc: 0.8822\n",
      "Epoch 21/50\n",
      "46/46 [==============================] - 259s 6s/step - loss: 0.3685 - acc: 0.8671 - val_loss: 0.3337 - val_acc: 0.8802\n",
      "Epoch 22/50\n",
      "46/46 [==============================] - 252s 5s/step - loss: 0.3672 - acc: 0.8657 - val_loss: 0.3373 - val_acc: 0.8745\n",
      "Epoch 23/50\n",
      "46/46 [==============================] - 261s 6s/step - loss: 0.3699 - acc: 0.8669 - val_loss: 0.3355 - val_acc: 0.8770\n",
      "Epoch 24/50\n",
      "46/46 [==============================] - 250s 5s/step - loss: 0.3645 - acc: 0.8677 - val_loss: 0.3295 - val_acc: 0.8803\n",
      "Epoch 25/50\n",
      "46/46 [==============================] - 251s 5s/step - loss: 0.3548 - acc: 0.8719 - val_loss: 0.3216 - val_acc: 0.8831\n",
      "Epoch 26/50\n",
      "46/46 [==============================] - 257s 6s/step - loss: 0.3591 - acc: 0.8693 - val_loss: 0.3304 - val_acc: 0.8794\n",
      "Epoch 27/50\n",
      "46/46 [==============================] - 248s 5s/step - loss: 0.3534 - acc: 0.8718 - val_loss: 0.3265 - val_acc: 0.8817\n",
      "Epoch 28/50\n",
      "46/46 [==============================] - 253s 5s/step - loss: 0.3495 - acc: 0.8731 - val_loss: 0.3234 - val_acc: 0.8803\n",
      "Epoch 29/50\n",
      "46/46 [==============================] - 249s 5s/step - loss: 0.3480 - acc: 0.8747 - val_loss: 0.3198 - val_acc: 0.8844\n",
      "Epoch 30/50\n",
      "46/46 [==============================] - 302s 7s/step - loss: 0.3460 - acc: 0.8760 - val_loss: 0.3310 - val_acc: 0.8776\n",
      "Epoch 31/50\n",
      "46/46 [==============================] - 288s 6s/step - loss: 0.3480 - acc: 0.8739 - val_loss: 0.3068 - val_acc: 0.8885\n",
      "Epoch 32/50\n",
      "46/46 [==============================] - 332s 7s/step - loss: 0.3402 - acc: 0.8771 - val_loss: 0.3204 - val_acc: 0.8826\n",
      "Epoch 33/50\n",
      "46/46 [==============================] - 293s 6s/step - loss: 0.3429 - acc: 0.8755 - val_loss: 0.3512 - val_acc: 0.8720\n",
      "Epoch 34/50\n",
      "46/46 [==============================] - 317s 7s/step - loss: 0.3392 - acc: 0.8782 - val_loss: 0.3215 - val_acc: 0.8801\n",
      "Epoch 35/50\n",
      "46/46 [==============================] - 280s 6s/step - loss: 0.3390 - acc: 0.8781 - val_loss: 0.3155 - val_acc: 0.8831\n",
      "Epoch 36/50\n",
      "46/46 [==============================] - 324s 7s/step - loss: 0.3323 - acc: 0.8797 - val_loss: 0.3057 - val_acc: 0.8896\n",
      "Epoch 37/50\n",
      "46/46 [==============================] - 271s 6s/step - loss: 0.3339 - acc: 0.8800 - val_loss: 0.3179 - val_acc: 0.8878\n",
      "Epoch 38/50\n",
      "46/46 [==============================] - 261s 6s/step - loss: 0.3270 - acc: 0.8822 - val_loss: 0.3236 - val_acc: 0.8844\n",
      "Epoch 39/50\n",
      "46/46 [==============================] - 254s 6s/step - loss: 0.3299 - acc: 0.8809 - val_loss: 0.3058 - val_acc: 0.8892\n",
      "Epoch 40/50\n",
      "46/46 [==============================] - 249s 5s/step - loss: 0.3300 - acc: 0.8800 - val_loss: 0.3118 - val_acc: 0.8897\n",
      "Epoch 41/50\n",
      "46/46 [==============================] - 247s 5s/step - loss: 0.3204 - acc: 0.8839 - val_loss: 0.3063 - val_acc: 0.8884\n",
      "Epoch 42/50\n",
      "46/46 [==============================] - 246s 5s/step - loss: 0.3284 - acc: 0.8826 - val_loss: 0.3087 - val_acc: 0.8878\n",
      "Epoch 43/50\n",
      "46/46 [==============================] - 248s 5s/step - loss: 0.3264 - acc: 0.8816 - val_loss: 0.2842 - val_acc: 0.8926\n",
      "Epoch 44/50\n",
      "46/46 [==============================] - 245s 5s/step - loss: 0.3195 - acc: 0.8827 - val_loss: 0.2914 - val_acc: 0.8970\n",
      "Epoch 45/50\n",
      "46/46 [==============================] - 247s 5s/step - loss: 0.3189 - acc: 0.8843 - val_loss: 0.3010 - val_acc: 0.8899\n",
      "Epoch 46/50\n",
      "46/46 [==============================] - 248s 5s/step - loss: 0.3172 - acc: 0.8855 - val_loss: 0.3038 - val_acc: 0.8907\n",
      "Epoch 47/50\n",
      "46/46 [==============================] - 247s 5s/step - loss: 0.3198 - acc: 0.8849 - val_loss: 0.3092 - val_acc: 0.8879\n",
      "Epoch 48/50\n",
      "46/46 [==============================] - 248s 5s/step - loss: 0.3203 - acc: 0.8839 - val_loss: 0.3265 - val_acc: 0.8846\n",
      "Epoch 49/50\n",
      "46/46 [==============================] - 247s 5s/step - loss: 0.3126 - acc: 0.8867 - val_loss: 0.2857 - val_acc: 0.8957\n",
      "Epoch 50/50\n",
      "46/46 [==============================] - 247s 5s/step - loss: 0.3117 - acc: 0.8868 - val_loss: 0.2834 - val_acc: 0.8966\n"
     ]
    },
    {
     "data": {
      "text/plain": [
       "<keras.callbacks.History at 0x7fd3f84f95f8>"
      ]
     },
     "execution_count": 33,
     "metadata": {},
     "output_type": "execute_result"
    }
   ],
   "source": [
    "cnn3.fit_generator(batches, steps_per_epoch=np.ceil(48000//batch_size), epochs=50, \n",
    "                    validation_data=val_batches, validation_steps=12000//batch_size, use_multiprocessing=False)"
   ]
  },
  {
   "cell_type": "code",
   "execution_count": 34,
   "metadata": {},
   "outputs": [
    {
     "name": "stdout",
     "output_type": "stream",
     "text": [
      "Test loss: 0.21089796236157418\n",
      "Test accuracy: 0.9239\n"
     ]
    }
   ],
   "source": [
    "score = cnn3.evaluate(x_test, y_test, verbose=0)\n",
    "print('Test loss:', score[0])\n",
    "print('Test accuracy:', score[1])"
   ]
  },
  {
   "cell_type": "code",
   "execution_count": null,
   "metadata": {},
   "outputs": [],
   "source": []
  }
 ],
 "metadata": {
  "kernelspec": {
   "display_name": "Python 3",
   "language": "python",
   "name": "python3"
  },
  "language_info": {
   "codemirror_mode": {
    "name": "ipython",
    "version": 3
   },
   "file_extension": ".py",
   "mimetype": "text/x-python",
   "name": "python",
   "nbconvert_exporter": "python",
   "pygments_lexer": "ipython3",
   "version": "3.7.3"
  }
 },
 "nbformat": 4,
 "nbformat_minor": 2
}
