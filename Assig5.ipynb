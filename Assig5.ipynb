{
 "cells": [
  {
   "cell_type": "code",
   "execution_count": 1,
   "metadata": {},
   "outputs": [
    {
     "name": "stderr",
     "output_type": "stream",
     "text": [
      "Using TensorFlow backend.\n"
     ]
    }
   ],
   "source": [
    "import keras\n",
    "from keras.models import Sequential\n",
    "from keras.layers import Conv2D, MaxPooling2D, BatchNormalization\n",
    "from keras.layers import Dense, Flatten, Dropout, Lambda\n",
    "from keras.optimizers import Adam\n",
    "from keras.preprocessing.image import ImageDataGenerator\n",
    "\n",
    "import numpy as np\n",
    "import pandas as pd\n",
    "import matplotlib.pyplot as plt\n",
    "from sklearn.model_selection import train_test_split\n",
    "%matplotlib inline"
   ]
  },
  {
   "cell_type": "code",
   "execution_count": 2,
   "metadata": {},
   "outputs": [],
   "source": [
    "from tensorflow.python.util import deprecation\n",
    "deprecation._PRINT_DEPRECATION_WARNINGS = False"
   ]
  },
  {
   "cell_type": "code",
   "execution_count": 3,
   "metadata": {},
   "outputs": [
    {
     "data": {
      "text/html": [
       "<div>\n",
       "<style scoped>\n",
       "    .dataframe tbody tr th:only-of-type {\n",
       "        vertical-align: middle;\n",
       "    }\n",
       "\n",
       "    .dataframe tbody tr th {\n",
       "        vertical-align: top;\n",
       "    }\n",
       "\n",
       "    .dataframe thead th {\n",
       "        text-align: right;\n",
       "    }\n",
       "</style>\n",
       "<table border=\"1\" class=\"dataframe\">\n",
       "  <thead>\n",
       "    <tr style=\"text-align: right;\">\n",
       "      <th></th>\n",
       "      <th>label</th>\n",
       "      <th>pixel1</th>\n",
       "      <th>pixel2</th>\n",
       "      <th>pixel3</th>\n",
       "      <th>pixel4</th>\n",
       "      <th>pixel5</th>\n",
       "      <th>pixel6</th>\n",
       "      <th>pixel7</th>\n",
       "      <th>pixel8</th>\n",
       "      <th>pixel9</th>\n",
       "      <th>...</th>\n",
       "      <th>pixel775</th>\n",
       "      <th>pixel776</th>\n",
       "      <th>pixel777</th>\n",
       "      <th>pixel778</th>\n",
       "      <th>pixel779</th>\n",
       "      <th>pixel780</th>\n",
       "      <th>pixel781</th>\n",
       "      <th>pixel782</th>\n",
       "      <th>pixel783</th>\n",
       "      <th>pixel784</th>\n",
       "    </tr>\n",
       "  </thead>\n",
       "  <tbody>\n",
       "    <tr>\n",
       "      <th>0</th>\n",
       "      <td>2</td>\n",
       "      <td>0</td>\n",
       "      <td>0</td>\n",
       "      <td>0</td>\n",
       "      <td>0</td>\n",
       "      <td>0</td>\n",
       "      <td>0</td>\n",
       "      <td>0</td>\n",
       "      <td>0</td>\n",
       "      <td>0</td>\n",
       "      <td>...</td>\n",
       "      <td>0</td>\n",
       "      <td>0</td>\n",
       "      <td>0</td>\n",
       "      <td>0</td>\n",
       "      <td>0</td>\n",
       "      <td>0</td>\n",
       "      <td>0</td>\n",
       "      <td>0</td>\n",
       "      <td>0</td>\n",
       "      <td>0</td>\n",
       "    </tr>\n",
       "    <tr>\n",
       "      <th>1</th>\n",
       "      <td>9</td>\n",
       "      <td>0</td>\n",
       "      <td>0</td>\n",
       "      <td>0</td>\n",
       "      <td>0</td>\n",
       "      <td>0</td>\n",
       "      <td>0</td>\n",
       "      <td>0</td>\n",
       "      <td>0</td>\n",
       "      <td>0</td>\n",
       "      <td>...</td>\n",
       "      <td>0</td>\n",
       "      <td>0</td>\n",
       "      <td>0</td>\n",
       "      <td>0</td>\n",
       "      <td>0</td>\n",
       "      <td>0</td>\n",
       "      <td>0</td>\n",
       "      <td>0</td>\n",
       "      <td>0</td>\n",
       "      <td>0</td>\n",
       "    </tr>\n",
       "    <tr>\n",
       "      <th>2</th>\n",
       "      <td>6</td>\n",
       "      <td>0</td>\n",
       "      <td>0</td>\n",
       "      <td>0</td>\n",
       "      <td>0</td>\n",
       "      <td>0</td>\n",
       "      <td>0</td>\n",
       "      <td>0</td>\n",
       "      <td>5</td>\n",
       "      <td>0</td>\n",
       "      <td>...</td>\n",
       "      <td>0</td>\n",
       "      <td>0</td>\n",
       "      <td>0</td>\n",
       "      <td>30</td>\n",
       "      <td>43</td>\n",
       "      <td>0</td>\n",
       "      <td>0</td>\n",
       "      <td>0</td>\n",
       "      <td>0</td>\n",
       "      <td>0</td>\n",
       "    </tr>\n",
       "    <tr>\n",
       "      <th>3</th>\n",
       "      <td>0</td>\n",
       "      <td>0</td>\n",
       "      <td>0</td>\n",
       "      <td>0</td>\n",
       "      <td>1</td>\n",
       "      <td>2</td>\n",
       "      <td>0</td>\n",
       "      <td>0</td>\n",
       "      <td>0</td>\n",
       "      <td>0</td>\n",
       "      <td>...</td>\n",
       "      <td>3</td>\n",
       "      <td>0</td>\n",
       "      <td>0</td>\n",
       "      <td>0</td>\n",
       "      <td>0</td>\n",
       "      <td>1</td>\n",
       "      <td>0</td>\n",
       "      <td>0</td>\n",
       "      <td>0</td>\n",
       "      <td>0</td>\n",
       "    </tr>\n",
       "    <tr>\n",
       "      <th>4</th>\n",
       "      <td>3</td>\n",
       "      <td>0</td>\n",
       "      <td>0</td>\n",
       "      <td>0</td>\n",
       "      <td>0</td>\n",
       "      <td>0</td>\n",
       "      <td>0</td>\n",
       "      <td>0</td>\n",
       "      <td>0</td>\n",
       "      <td>0</td>\n",
       "      <td>...</td>\n",
       "      <td>0</td>\n",
       "      <td>0</td>\n",
       "      <td>0</td>\n",
       "      <td>0</td>\n",
       "      <td>0</td>\n",
       "      <td>0</td>\n",
       "      <td>0</td>\n",
       "      <td>0</td>\n",
       "      <td>0</td>\n",
       "      <td>0</td>\n",
       "    </tr>\n",
       "  </tbody>\n",
       "</table>\n",
       "<p>5 rows × 785 columns</p>\n",
       "</div>"
      ],
      "text/plain": [
       "   label  pixel1  pixel2  pixel3  pixel4  pixel5  pixel6  pixel7  pixel8  \\\n",
       "0      2       0       0       0       0       0       0       0       0   \n",
       "1      9       0       0       0       0       0       0       0       0   \n",
       "2      6       0       0       0       0       0       0       0       5   \n",
       "3      0       0       0       0       1       2       0       0       0   \n",
       "4      3       0       0       0       0       0       0       0       0   \n",
       "\n",
       "   pixel9  ...  pixel775  pixel776  pixel777  pixel778  pixel779  pixel780  \\\n",
       "0       0  ...         0         0         0         0         0         0   \n",
       "1       0  ...         0         0         0         0         0         0   \n",
       "2       0  ...         0         0         0        30        43         0   \n",
       "3       0  ...         3         0         0         0         0         1   \n",
       "4       0  ...         0         0         0         0         0         0   \n",
       "\n",
       "   pixel781  pixel782  pixel783  pixel784  \n",
       "0         0         0         0         0  \n",
       "1         0         0         0         0  \n",
       "2         0         0         0         0  \n",
       "3         0         0         0         0  \n",
       "4         0         0         0         0  \n",
       "\n",
       "[5 rows x 785 columns]"
      ]
     },
     "execution_count": 3,
     "metadata": {},
     "output_type": "execute_result"
    }
   ],
   "source": [
    "train_df = pd.read_csv('fashion-mnist_train.csv')\n",
    "test_df = pd.read_csv('fashion-mnist_test.csv')\n",
    "\n",
    "train_df.head()"
   ]
  },
  {
   "cell_type": "code",
   "execution_count": 4,
   "metadata": {},
   "outputs": [],
   "source": [
    "# split the training and testing data into X (image) and Y (label) arrays\n",
    "\n",
    "train_data = np.array(train_df, dtype='float32')\n",
    "test_data = np.array(test_df, dtype='float32')\n",
    "\n",
    "x_train = train_data[:, 1:] / 255\n",
    "y_train = train_data[:, 0]\n",
    "\n",
    "x_test = test_data[:, 1:] / 255\n",
    "y_test = test_data[:, 0]"
   ]
  },
  {
   "cell_type": "code",
   "execution_count": 5,
   "metadata": {},
   "outputs": [
    {
     "data": {
      "text/plain": [
       "(60000, 784)"
      ]
     },
     "execution_count": 5,
     "metadata": {},
     "output_type": "execute_result"
    }
   ],
   "source": [
    "x_train.shape"
   ]
  },
  {
   "cell_type": "code",
   "execution_count": 6,
   "metadata": {},
   "outputs": [
    {
     "data": {
      "text/plain": [
       "(10000, 784)"
      ]
     },
     "execution_count": 6,
     "metadata": {},
     "output_type": "execute_result"
    }
   ],
   "source": [
    "x_test.shape"
   ]
  },
  {
   "cell_type": "code",
   "execution_count": 7,
   "metadata": {},
   "outputs": [],
   "source": [
    "# split the training data into train and validate arrays (will be used later)\n",
    "\n",
    "x_train, x_validate, y_train, y_validate = train_test_split(\n",
    "    x_train, y_train, test_size=0.2, random_state=10,\n",
    ")"
   ]
  },
  {
   "cell_type": "code",
   "execution_count": 8,
   "metadata": {},
   "outputs": [
    {
     "data": {
      "text/plain": [
       "(48000, 784)"
      ]
     },
     "execution_count": 8,
     "metadata": {},
     "output_type": "execute_result"
    }
   ],
   "source": [
    "x_train.shape"
   ]
  },
  {
   "cell_type": "code",
   "execution_count": 9,
   "metadata": {},
   "outputs": [
    {
     "data": {
      "text/plain": [
       "(12000, 784)"
      ]
     },
     "execution_count": 9,
     "metadata": {},
     "output_type": "execute_result"
    }
   ],
   "source": [
    "x_validate.shape"
   ]
  },
  {
   "cell_type": "code",
   "execution_count": 10,
   "metadata": {},
   "outputs": [],
   "source": [
    "class_labels = [\"T-shirt/top\",\"Trouser\",\"Pullover\",\"Dress\",\"Coat\",\"Sandal\",\"Shirt\",\"Sneaker\",\"Bag\",\"Ankle boot\"]"
   ]
  },
  {
   "cell_type": "code",
   "execution_count": 11,
   "metadata": {},
   "outputs": [
    {
     "data": {
      "image/png": "[encoded data removed]",
      "text/plain": [
       "<Figure size 432x288 with 1 Axes>"
      ]
     },
     "metadata": {
      "needs_background": "light"
     },
     "output_type": "display_data"
    }
   ],
   "source": [
    "image = x_train[50, :].reshape((28, 28))\n",
    "\n",
    "plt.imshow(image)\n",
    "plt.show()"
   ]
  },
  {
   "cell_type": "code",
   "execution_count": 12,
   "metadata": {},
   "outputs": [
    {
     "data": {
      "text/plain": [
       "'Sneaker'"
      ]
     },
     "execution_count": 12,
     "metadata": {},
     "output_type": "execute_result"
    }
   ],
   "source": [
    "class_labels[int(y_train[50])]"
   ]
  },
  {
   "cell_type": "markdown",
   "metadata": {},
   "source": [
    "CNN Model\n",
    "- Define\n",
    "- Compile\n",
    "- Fit"
   ]
  },
  {
   "cell_type": "code",
   "execution_count": 13,
   "metadata": {},
   "outputs": [
    {
     "name": "stdout",
     "output_type": "stream",
     "text": [
      "x_train shape: (48000, 28, 28, 1)\n",
      "x_test shape: (10000, 28, 28, 1)\n",
      "x_validate shape: (12000, 28, 28, 1)\n"
     ]
    }
   ],
   "source": [
    "batch_size = 512\n",
    "im_shape = (28, 28, 1)\n",
    "\n",
    "x_train = x_train.reshape(x_train.shape[0], *im_shape)\n",
    "x_test = x_test.reshape(x_test.shape[0], *im_shape)\n",
    "x_validate = x_validate.reshape(x_validate.shape[0], *im_shape)\n",
    "\n",
    "print('x_train shape: {}'.format(x_train.shape))\n",
    "print('x_test shape: {}'.format(x_test.shape))\n",
    "print('x_validate shape: {}'.format(x_validate.shape))"
   ]
  },
  {
   "cell_type": "code",
   "execution_count": 14,
   "metadata": {},
   "outputs": [
    {
     "name": "stderr",
     "output_type": "stream",
     "text": [
      "WARNING: Logging before flag parsing goes to stderr.\n",
      "W0708 04:04:02.158647 140658410268480 deprecation_wrapper.py:119] From /home/praful/anaconda3/lib/python3.7/site-packages/keras/backend/tensorflow_backend.py:74: The name tf.get_default_graph is deprecated. Please use tf.compat.v1.get_default_graph instead.\n",
      "\n",
      "W0708 04:04:02.553126 140658410268480 deprecation_wrapper.py:119] From /home/praful/anaconda3/lib/python3.7/site-packages/keras/backend/tensorflow_backend.py:517: The name tf.placeholder is deprecated. Please use tf.compat.v1.placeholder instead.\n",
      "\n",
      "W0708 04:04:02.586345 140658410268480 deprecation_wrapper.py:119] From /home/praful/anaconda3/lib/python3.7/site-packages/keras/backend/tensorflow_backend.py:4138: The name tf.random_uniform is deprecated. Please use tf.random.uniform instead.\n",
      "\n",
      "W0708 04:04:02.657970 140658410268480 deprecation_wrapper.py:119] From /home/praful/anaconda3/lib/python3.7/site-packages/keras/backend/tensorflow_backend.py:3976: The name tf.nn.max_pool is deprecated. Please use tf.nn.max_pool2d instead.\n",
      "\n",
      "W0708 04:04:02.686851 140658410268480 deprecation_wrapper.py:119] From /home/praful/anaconda3/lib/python3.7/site-packages/keras/backend/tensorflow_backend.py:133: The name tf.placeholder_with_default is deprecated. Please use tf.compat.v1.placeholder_with_default instead.\n",
      "\n"
     ]
    }
   ],
   "source": [
    "# Model specifications\n",
    "\n",
    "cnn_model = Sequential([\n",
    "    Conv2D(32, kernel_size=(3, 3), activation='relu', input_shape=im_shape),\n",
    "    MaxPooling2D(pool_size=(2, 2)),\n",
    "    Dropout(0.2),\n",
    "    Flatten(),\n",
    "    Dense(32, activation='relu'),\n",
    "    Dense(10, activation='softmax')\n",
    "])"
   ]
  },
  {
   "cell_type": "code",
   "execution_count": 15,
   "metadata": {},
   "outputs": [
    {
     "name": "stderr",
     "output_type": "stream",
     "text": [
      "W0708 04:04:02.792918 140658410268480 deprecation_wrapper.py:119] From /home/praful/anaconda3/lib/python3.7/site-packages/keras/optimizers.py:790: The name tf.train.Optimizer is deprecated. Please use tf.compat.v1.train.Optimizer instead.\n",
      "\n",
      "W0708 04:04:02.797701 140658410268480 deprecation_wrapper.py:119] From /home/praful/anaconda3/lib/python3.7/site-packages/keras/backend/tensorflow_backend.py:3341: The name tf.log is deprecated. Please use tf.math.log instead.\n",
      "\n"
     ]
    }
   ],
   "source": [
    "# compile model\n",
    "\n",
    "opt = Adam(lr=0.001)\n",
    "cnn_model.compile(loss='sparse_categorical_crossentropy',\n",
    "    optimizer=opt,\n",
    "    metrics=['accuracy']\n",
    ")"
   ]
  },
  {
   "cell_type": "code",
   "execution_count": 16,
   "metadata": {},
   "outputs": [
    {
     "name": "stdout",
     "output_type": "stream",
     "text": [
      "Train on 48000 samples, validate on 12000 samples\n",
      "Epoch 1/10\n",
      "48000/48000 [==============================] - 13s 266us/step - loss: 0.8005 - acc: 0.7248 - val_loss: 0.4944 - val_acc: 0.8312\n",
      "Epoch 2/10\n",
      "48000/48000 [==============================] - 11s 227us/step - loss: 0.4557 - acc: 0.8399 - val_loss: 0.4097 - val_acc: 0.8568\n",
      "Epoch 3/10\n",
      "48000/48000 [==============================] - 11s 224us/step - loss: 0.4011 - acc: 0.8609 - val_loss: 0.3810 - val_acc: 0.8651\n",
      "Epoch 4/10\n",
      "48000/48000 [==============================] - 10s 213us/step - loss: 0.3734 - acc: 0.8701 - val_loss: 0.3773 - val_acc: 0.8663\n",
      "Epoch 5/10\n",
      "48000/48000 [==============================] - 10s 199us/step - loss: 0.3542 - acc: 0.8761 - val_loss: 0.3389 - val_acc: 0.8813\n",
      "Epoch 6/10\n",
      "48000/48000 [==============================] - 11s 225us/step - loss: 0.3370 - acc: 0.8831 - val_loss: 0.3268 - val_acc: 0.8867\n",
      "Epoch 7/10\n",
      "48000/48000 [==============================] - 11s 225us/step - loss: 0.3202 - acc: 0.8884 - val_loss: 0.3206 - val_acc: 0.8874\n",
      "Epoch 8/10\n",
      "48000/48000 [==============================] - 16s 342us/step - loss: 0.3092 - acc: 0.8913 - val_loss: 0.3132 - val_acc: 0.8905\n",
      "Epoch 9/10\n",
      "48000/48000 [==============================] - 19s 403us/step - loss: 0.3023 - acc: 0.8928 - val_loss: 0.3049 - val_acc: 0.8921\n",
      "Epoch 10/10\n",
      "48000/48000 [==============================] - 18s 368us/step - loss: 0.2917 - acc: 0.8968 - val_loss: 0.3014 - val_acc: 0.8942\n"
     ]
    },
    {
     "data": {
      "text/plain": [
       "<keras.callbacks.History at 0x7fed52fd5b00>"
      ]
     },
     "execution_count": 16,
     "metadata": {},
     "output_type": "execute_result"
    }
   ],
   "source": [
    "# training the model\n",
    "\n",
    "cnn_model.fit(\n",
    "    x_train, y_train,\n",
    "    batch_size=batch_size,\n",
    "    epochs=10,\n",
    "    verbose=1,\n",
    "    validation_data=(x_validate, y_validate)\n",
    ")"
   ]
  },
  {
   "cell_type": "code",
   "execution_count": 17,
   "metadata": {},
   "outputs": [
    {
     "name": "stdout",
     "output_type": "stream",
     "text": [
      "Test loss: 0.29223248200416563\n",
      "Test accuracy: 0.8994\n"
     ]
    }
   ],
   "source": [
    "# testing the model on test data\n",
    "\n",
    "score = cnn_model.evaluate(x_test, y_test, verbose=0)\n",
    "print('Test loss:', score[0])\n",
    "print('Test accuracy:', score[1])"
   ]
  },
  {
   "cell_type": "markdown",
   "metadata": {},
   "source": [
    "# A deeper CNN"
   ]
  },
  {
   "cell_type": "code",
   "execution_count": 18,
   "metadata": {},
   "outputs": [],
   "source": [
    "cnn2 = Sequential([\n",
    "    Conv2D(32, kernel_size=(3, 3), activation='relu', input_shape=im_shape),\n",
    "    MaxPooling2D(pool_size=(2, 2)),\n",
    "    Dropout(0.2),\n",
    "\n",
    "    Conv2D(64, kernel_size=(3, 3), activation='relu'),\n",
    "    MaxPooling2D(pool_size=(2, 2)),\n",
    "    Dropout(0.2),\n",
    "\n",
    "    Conv2D(128, kernel_size=(3, 3), activation='relu'),\n",
    "    Dropout(0.2),\n",
    "\n",
    "    Flatten(),\n",
    "\n",
    "    Dense(128, activation='relu'),\n",
    "    Dropout(0.2),\n",
    "    Dense(10, activation='softmax')\n",
    "])"
   ]
  },
  {
   "cell_type": "code",
   "execution_count": 19,
   "metadata": {},
   "outputs": [],
   "source": [
    "cnn2.compile(loss='sparse_categorical_crossentropy',\n",
    "              optimizer=opt,\n",
    "              metrics=['accuracy'])"
   ]
  },
  {
   "cell_type": "code",
   "execution_count": 20,
   "metadata": {},
   "outputs": [
    {
     "name": "stdout",
     "output_type": "stream",
     "text": [
      "Train on 48000 samples, validate on 12000 samples\n",
      "Epoch 1/10\n",
      "48000/48000 [==============================] - 37s 768us/step - loss: 0.7936 - acc: 0.7044 - val_loss: 0.4656 - val_acc: 0.8197\n",
      "Epoch 2/10\n",
      "48000/48000 [==============================] - 36s 744us/step - loss: 0.4636 - acc: 0.8290 - val_loss: 0.3855 - val_acc: 0.8592\n",
      "Epoch 3/10\n",
      "48000/48000 [==============================] - 34s 713us/step - loss: 0.4046 - acc: 0.8516 - val_loss: 0.3410 - val_acc: 0.8757\n",
      "Epoch 4/10\n",
      "48000/48000 [==============================] - 32s 672us/step - loss: 0.3701 - acc: 0.8650 - val_loss: 0.3170 - val_acc: 0.8852\n",
      "Epoch 5/10\n",
      "48000/48000 [==============================] - 34s 717us/step - loss: 0.3447 - acc: 0.8731 - val_loss: 0.2969 - val_acc: 0.8924\n",
      "Epoch 6/10\n",
      "48000/48000 [==============================] - 34s 715us/step - loss: 0.3303 - acc: 0.8791 - val_loss: 0.2936 - val_acc: 0.8930\n",
      "Epoch 7/10\n",
      "48000/48000 [==============================] - 35s 725us/step - loss: 0.3163 - acc: 0.8827 - val_loss: 0.2799 - val_acc: 0.8950\n",
      "Epoch 8/10\n",
      "48000/48000 [==============================] - 35s 722us/step - loss: 0.3034 - acc: 0.8905 - val_loss: 0.2761 - val_acc: 0.8976\n",
      "Epoch 9/10\n",
      "48000/48000 [==============================] - 35s 721us/step - loss: 0.2986 - acc: 0.8902 - val_loss: 0.2793 - val_acc: 0.8986\n",
      "Epoch 10/10\n",
      "48000/48000 [==============================] - 35s 725us/step - loss: 0.2852 - acc: 0.8953 - val_loss: 0.2620 - val_acc: 0.9042\n"
     ]
    },
    {
     "data": {
      "text/plain": [
       "<keras.callbacks.History at 0x7fed28055400>"
      ]
     },
     "execution_count": 20,
     "metadata": {},
     "output_type": "execute_result"
    }
   ],
   "source": [
    "cnn2.fit(x_train, y_train,\n",
    "          batch_size=batch_size,\n",
    "          epochs=10,\n",
    "          verbose=1,\n",
    "          validation_data=(x_validate, y_validate))"
   ]
  },
  {
   "cell_type": "code",
   "execution_count": 21,
   "metadata": {},
   "outputs": [
    {
     "name": "stdout",
     "output_type": "stream",
     "text": [
      "Train on 48000 samples, validate on 12000 samples\n",
      "Epoch 1/10\n",
      "48000/48000 [==============================] - 35s 719us/step - loss: 0.2771 - acc: 0.8981 - val_loss: 0.2647 - val_acc: 0.8990\n",
      "Epoch 2/10\n",
      "48000/48000 [==============================] - 35s 724us/step - loss: 0.2712 - acc: 0.8991 - val_loss: 0.2495 - val_acc: 0.9083\n",
      "Epoch 3/10\n",
      "48000/48000 [==============================] - 35s 727us/step - loss: 0.2634 - acc: 0.9037 - val_loss: 0.2472 - val_acc: 0.9097\n",
      "Epoch 4/10\n",
      "48000/48000 [==============================] - 35s 720us/step - loss: 0.2585 - acc: 0.9039 - val_loss: 0.2399 - val_acc: 0.9114\n",
      "Epoch 5/10\n",
      "48000/48000 [==============================] - 35s 724us/step - loss: 0.2508 - acc: 0.9073 - val_loss: 0.2402 - val_acc: 0.9098\n",
      "Epoch 6/10\n",
      "48000/48000 [==============================] - 35s 721us/step - loss: 0.2474 - acc: 0.9090 - val_loss: 0.2390 - val_acc: 0.9117\n",
      "Epoch 7/10\n",
      "48000/48000 [==============================] - 35s 726us/step - loss: 0.2446 - acc: 0.9094 - val_loss: 0.2378 - val_acc: 0.9135\n",
      "Epoch 8/10\n",
      "48000/48000 [==============================] - 34s 718us/step - loss: 0.2372 - acc: 0.9122 - val_loss: 0.2361 - val_acc: 0.9127\n",
      "Epoch 9/10\n",
      "48000/48000 [==============================] - 35s 724us/step - loss: 0.2334 - acc: 0.9133 - val_loss: 0.2349 - val_acc: 0.9144\n",
      "Epoch 10/10\n",
      "48000/48000 [==============================] - 35s 732us/step - loss: 0.2282 - acc: 0.9155 - val_loss: 0.2357 - val_acc: 0.9119\n"
     ]
    },
    {
     "data": {
      "text/plain": [
       "<keras.callbacks.History at 0x7fed201a0630>"
      ]
     },
     "execution_count": 21,
     "metadata": {},
     "output_type": "execute_result"
    }
   ],
   "source": [
    "cnn2.optimizer.lr = 0.0001\n",
    "\n",
    "cnn2.fit(x_train, y_train,\n",
    "          batch_size=batch_size,\n",
    "          epochs=10,\n",
    "          verbose=1,\n",
    "          validation_data=(x_validate, y_validate))"
   ]
  },
  {
   "cell_type": "code",
   "execution_count": 22,
   "metadata": {},
   "outputs": [
    {
     "name": "stdout",
     "output_type": "stream",
     "text": [
      "Test loss: 0.22309251962304116\n",
      "Test accuracy: 0.917\n"
     ]
    }
   ],
   "source": [
    "score = cnn2.evaluate(x_test, y_test, verbose=0)\n",
    "print('Test loss:', score[0])\n",
    "print('Test accuracy:', score[1])"
   ]
  },
  {
   "cell_type": "markdown",
   "metadata": {},
   "source": [
    "# Model with 4 Conv Layers and Batch Norm"
   ]
  },
  {
   "cell_type": "code",
   "execution_count": 23,
   "metadata": {},
   "outputs": [],
   "source": [
    "mean_px = x_train.mean().astype(np.float32)\n",
    "std_px = x_train.std().astype(np.float32)\n",
    "def norm_input(x): return (x-mean_px)/std_px"
   ]
  },
  {
   "cell_type": "code",
   "execution_count": 24,
   "metadata": {},
   "outputs": [
    {
     "name": "stderr",
     "output_type": "stream",
     "text": [
      "W0708 04:17:52.077618 140658410268480 deprecation_wrapper.py:119] From /home/praful/anaconda3/lib/python3.7/site-packages/keras/backend/tensorflow_backend.py:1834: The name tf.nn.fused_batch_norm is deprecated. Please use tf.compat.v1.nn.fused_batch_norm instead.\n",
      "\n"
     ]
    }
   ],
   "source": [
    "cnn3 = Sequential([\n",
    "    Lambda(norm_input, input_shape=im_shape),\n",
    "    Conv2D(32, kernel_size=(3, 3), activation='relu', input_shape=im_shape),\n",
    "    BatchNormalization(),\n",
    "\n",
    "    Conv2D(32, kernel_size=(3, 3), activation='relu'),    \n",
    "    BatchNormalization(),\n",
    "    Dropout(0.25),\n",
    "\n",
    "    Conv2D(64, kernel_size=(3, 3), activation='relu'),    \n",
    "    MaxPooling2D(pool_size=(2, 2)),\n",
    "    Dropout(0.25),\n",
    "    \n",
    "    \n",
    "    Conv2D(128, kernel_size=(3, 3), activation='relu'),    \n",
    "    BatchNormalization(),\n",
    "    Dropout(0.25),\n",
    "\n",
    "    Flatten(),\n",
    "\n",
    "    Dense(512, activation='relu'),\n",
    "    BatchNormalization(),\n",
    "    Dropout(0.5),\n",
    "    Dense(128, activation='relu'),\n",
    "    BatchNormalization(),\n",
    "    Dropout(0.5),\n",
    "    Dense(10, activation='softmax')\n",
    "])"
   ]
  },
  {
   "cell_type": "code",
   "execution_count": 25,
   "metadata": {},
   "outputs": [],
   "source": [
    "cnn3.compile(loss='sparse_categorical_crossentropy',\n",
    "              optimizer=opt,\n",
    "              metrics=['accuracy'])"
   ]
  },
  {
   "cell_type": "code",
   "execution_count": 26,
   "metadata": {
    "scrolled": true
   },
   "outputs": [
    {
     "name": "stdout",
     "output_type": "stream",
     "text": [
      "Train on 48000 samples, validate on 12000 samples\n",
      "Epoch 1/10\n",
      "48000/48000 [==============================] - 249s 5ms/step - loss: 0.8123 - acc: 0.7224 - val_loss: 0.4549 - val_acc: 0.8361\n",
      "Epoch 2/10\n",
      "48000/48000 [==============================] - 252s 5ms/step - loss: 0.5157 - acc: 0.8162 - val_loss: 0.3848 - val_acc: 0.8623\n",
      "Epoch 3/10\n",
      "48000/48000 [==============================] - 251s 5ms/step - loss: 0.4540 - acc: 0.8390 - val_loss: 0.3506 - val_acc: 0.8732\n",
      "Epoch 4/10\n",
      "48000/48000 [==============================] - 251s 5ms/step - loss: 0.4104 - acc: 0.8535 - val_loss: 0.3284 - val_acc: 0.8810\n",
      "Epoch 5/10\n",
      "48000/48000 [==============================] - 251s 5ms/step - loss: 0.3829 - acc: 0.8645 - val_loss: 0.3173 - val_acc: 0.8868\n",
      "Epoch 6/10\n",
      "48000/48000 [==============================] - 250s 5ms/step - loss: 0.3576 - acc: 0.8736 - val_loss: 0.2917 - val_acc: 0.8954\n",
      "Epoch 7/10\n",
      "48000/48000 [==============================] - 250s 5ms/step - loss: 0.3389 - acc: 0.8801 - val_loss: 0.2851 - val_acc: 0.8987\n",
      "Epoch 8/10\n",
      "48000/48000 [==============================] - 251s 5ms/step - loss: 0.3215 - acc: 0.8839 - val_loss: 0.2686 - val_acc: 0.9025\n",
      "Epoch 9/10\n",
      "48000/48000 [==============================] - 250s 5ms/step - loss: 0.3129 - acc: 0.8878 - val_loss: 0.2647 - val_acc: 0.9058\n",
      "Epoch 10/10\n",
      "48000/48000 [==============================] - 249s 5ms/step - loss: 0.3003 - acc: 0.8919 - val_loss: 0.2668 - val_acc: 0.9036\n"
     ]
    },
    {
     "data": {
      "text/plain": [
       "<keras.callbacks.History at 0x7fed081ed6a0>"
      ]
     },
     "execution_count": 26,
     "metadata": {},
     "output_type": "execute_result"
    }
   ],
   "source": [
    "cnn3.fit(x_train, y_train,\n",
    "          batch_size=batch_size,\n",
    "          epochs=10,\n",
    "          verbose=1,\n",
    "          validation_data=(x_validate, y_validate))"
   ]
  },
  {
   "cell_type": "code",
   "execution_count": 27,
   "metadata": {},
   "outputs": [],
   "source": [
    "cnn3.optimizer.lr = 0.0001"
   ]
  },
  {
   "cell_type": "code",
   "execution_count": 28,
   "metadata": {},
   "outputs": [
    {
     "name": "stdout",
     "output_type": "stream",
     "text": [
      "Train on 48000 samples, validate on 12000 samples\n",
      "Epoch 1/10\n",
      "48000/48000 [==============================] - 249s 5ms/step - loss: 0.2920 - acc: 0.8957 - val_loss: 0.2530 - val_acc: 0.9113\n",
      "Epoch 2/10\n",
      "48000/48000 [==============================] - 251s 5ms/step - loss: 0.2810 - acc: 0.8990 - val_loss: 0.2563 - val_acc: 0.9100\n",
      "Epoch 3/10\n",
      "48000/48000 [==============================] - 249s 5ms/step - loss: 0.2715 - acc: 0.9038 - val_loss: 0.2523 - val_acc: 0.9099\n",
      "Epoch 4/10\n",
      "48000/48000 [==============================] - 250s 5ms/step - loss: 0.2667 - acc: 0.9039 - val_loss: 0.2437 - val_acc: 0.9123\n",
      "Epoch 5/10\n",
      "48000/48000 [==============================] - 248s 5ms/step - loss: 0.2569 - acc: 0.9086 - val_loss: 0.2454 - val_acc: 0.9121\n",
      "Epoch 6/10\n",
      "48000/48000 [==============================] - 248s 5ms/step - loss: 0.2527 - acc: 0.9097 - val_loss: 0.2575 - val_acc: 0.9098\n",
      "Epoch 7/10\n",
      "48000/48000 [==============================] - 250s 5ms/step - loss: 0.2452 - acc: 0.9123 - val_loss: 0.2440 - val_acc: 0.9137\n",
      "Epoch 8/10\n",
      "48000/48000 [==============================] - 248s 5ms/step - loss: 0.2401 - acc: 0.9152 - val_loss: 0.2374 - val_acc: 0.9154\n",
      "Epoch 9/10\n",
      "48000/48000 [==============================] - 249s 5ms/step - loss: 0.2370 - acc: 0.9155 - val_loss: 0.2323 - val_acc: 0.9177\n",
      "Epoch 10/10\n",
      "48000/48000 [==============================] - 250s 5ms/step - loss: 0.2302 - acc: 0.9167 - val_loss: 0.2255 - val_acc: 0.9218\n"
     ]
    },
    {
     "data": {
      "text/plain": [
       "<keras.callbacks.History at 0x7fed081ed518>"
      ]
     },
     "execution_count": 28,
     "metadata": {},
     "output_type": "execute_result"
    }
   ],
   "source": [
    "cnn3.fit(x_train, y_train,\n",
    "          batch_size=batch_size,\n",
    "          epochs=10,\n",
    "          verbose=1,\n",
    "          validation_data=(x_validate, y_validate))"
   ]
  },
  {
   "cell_type": "code",
   "execution_count": 29,
   "metadata": {},
   "outputs": [
    {
     "name": "stdout",
     "output_type": "stream",
     "text": [
      "Test loss: 0.2194538119405508\n",
      "Test accuracy: 0.9209\n"
     ]
    }
   ],
   "source": [
    "score = cnn3.evaluate(x_test, y_test, verbose=0)\n",
    "print('Test loss:', score[0])\n",
    "print('Test accuracy:', score[1])"
   ]
  },
  {
   "cell_type": "markdown",
   "metadata": {},
   "source": [
    "With Data Augmentation"
   ]
  },
  {
   "cell_type": "code",
   "execution_count": 30,
   "metadata": {},
   "outputs": [],
   "source": [
    "gen = ImageDataGenerator(rotation_range=10, width_shift_range=0.08, shear_range=0.3,\n",
    "                               height_shift_range=0.08, zoom_range=0.1, horizontal_flip=True)\n",
    "batches = gen.flow(x_train, y_train, batch_size=batch_size)\n",
    "val_batches = gen.flow(x_validate, y_validate, batch_size=batch_size)"
   ]
  },
  {
   "cell_type": "code",
   "execution_count": 33,
   "metadata": {},
   "outputs": [
    {
     "name": "stdout",
     "output_type": "stream",
     "text": [
      "Epoch 1/50\n",
      "93/93 [==============================] - 247s 3s/step - loss: 0.6103 - acc: 0.7898 - val_loss: 0.4939 - val_acc: 0.8283\n",
      "Epoch 2/50\n",
      "93/93 [==============================] - 253s 3s/step - loss: 0.4904 - acc: 0.8245 - val_loss: 0.4495 - val_acc: 0.8399\n",
      "Epoch 3/50\n",
      "93/93 [==============================] - 253s 3s/step - loss: 0.4602 - acc: 0.8328 - val_loss: 0.4346 - val_acc: 0.8444\n",
      "Epoch 4/50\n",
      "93/93 [==============================] - 253s 3s/step - loss: 0.4472 - acc: 0.8392 - val_loss: 0.3876 - val_acc: 0.8577\n",
      "Epoch 5/50\n",
      "93/93 [==============================] - 1977s 21s/step - loss: 0.4282 - acc: 0.8456 - val_loss: 0.4023 - val_acc: 0.8549\n",
      "Epoch 6/50\n",
      "93/93 [==============================] - 253s 3s/step - loss: 0.4182 - acc: 0.8483 - val_loss: 0.3584 - val_acc: 0.8674\n",
      "Epoch 7/50\n",
      "93/93 [==============================] - 252s 3s/step - loss: 0.4104 - acc: 0.8536 - val_loss: 0.3586 - val_acc: 0.8653\n",
      "Epoch 8/50\n",
      "93/93 [==============================] - 252s 3s/step - loss: 0.4018 - acc: 0.8554 - val_loss: 0.3517 - val_acc: 0.8708\n",
      "Epoch 9/50\n",
      "93/93 [==============================] - 258s 3s/step - loss: 0.3934 - acc: 0.8594 - val_loss: 0.3589 - val_acc: 0.8701\n",
      "Epoch 10/50\n",
      "93/93 [==============================] - 253s 3s/step - loss: 0.3890 - acc: 0.8593 - val_loss: 0.3596 - val_acc: 0.8694\n",
      "Epoch 11/50\n",
      "93/93 [==============================] - 253s 3s/step - loss: 0.3825 - acc: 0.8622 - val_loss: 0.3463 - val_acc: 0.8718\n",
      "Epoch 12/50\n",
      "93/93 [==============================] - 252s 3s/step - loss: 0.3772 - acc: 0.8637 - val_loss: 0.3296 - val_acc: 0.8792\n",
      "Epoch 13/50\n",
      "93/93 [==============================] - 252s 3s/step - loss: 0.3723 - acc: 0.8659 - val_loss: 0.3291 - val_acc: 0.8820\n",
      "Epoch 14/50\n",
      "93/93 [==============================] - 251s 3s/step - loss: 0.3708 - acc: 0.8670 - val_loss: 0.3373 - val_acc: 0.8771\n",
      "Epoch 15/50\n",
      "93/93 [==============================] - 253s 3s/step - loss: 0.3670 - acc: 0.8679 - val_loss: 0.3119 - val_acc: 0.8862\n",
      "Epoch 16/50\n",
      "93/93 [==============================] - 355s 4s/step - loss: 0.3564 - acc: 0.8713 - val_loss: 0.3117 - val_acc: 0.8852\n",
      "Epoch 17/50\n",
      "93/93 [==============================] - 249s 3s/step - loss: 0.3559 - acc: 0.8726 - val_loss: 0.3055 - val_acc: 0.8916\n",
      "Epoch 18/50\n",
      "93/93 [==============================] - 250s 3s/step - loss: 0.3568 - acc: 0.8717 - val_loss: 0.3100 - val_acc: 0.8868\n",
      "Epoch 19/50\n",
      "93/93 [==============================] - 251s 3s/step - loss: 0.3499 - acc: 0.8745 - val_loss: 0.3058 - val_acc: 0.8868\n",
      "Epoch 20/50\n",
      "93/93 [==============================] - 2238s 24s/step - loss: 0.3405 - acc: 0.8757 - val_loss: 0.3020 - val_acc: 0.8908\n",
      "Epoch 21/50\n",
      "93/93 [==============================] - 270s 3s/step - loss: 0.3480 - acc: 0.8744 - val_loss: 0.2954 - val_acc: 0.8926\n",
      "Epoch 22/50\n",
      "93/93 [==============================] - 293s 3s/step - loss: 0.3339 - acc: 0.8788 - val_loss: 0.2996 - val_acc: 0.8881\n",
      "Epoch 23/50\n",
      "93/93 [==============================] - 261s 3s/step - loss: 0.3405 - acc: 0.8789 - val_loss: 0.3077 - val_acc: 0.8884\n",
      "Epoch 24/50\n",
      "93/93 [==============================] - 255s 3s/step - loss: 0.3341 - acc: 0.8801 - val_loss: 0.3067 - val_acc: 0.8884\n",
      "Epoch 25/50\n",
      "93/93 [==============================] - 260s 3s/step - loss: 0.3318 - acc: 0.8807 - val_loss: 0.2892 - val_acc: 0.8943\n",
      "Epoch 26/50\n",
      "93/93 [==============================] - 253s 3s/step - loss: 0.3284 - acc: 0.8812 - val_loss: 0.2829 - val_acc: 0.8963\n",
      "Epoch 27/50\n",
      "93/93 [==============================] - 252s 3s/step - loss: 0.3260 - acc: 0.8848 - val_loss: 0.2867 - val_acc: 0.8946\n",
      "Epoch 28/50\n",
      "93/93 [==============================] - 256s 3s/step - loss: 0.3207 - acc: 0.8834 - val_loss: 0.2866 - val_acc: 0.8961\n",
      "Epoch 29/50\n",
      "93/93 [==============================] - 281s 3s/step - loss: 0.3251 - acc: 0.8827 - val_loss: 0.2987 - val_acc: 0.8902\n",
      "Epoch 30/50\n",
      "93/93 [==============================] - 310s 3s/step - loss: 0.3220 - acc: 0.8835 - val_loss: 0.2850 - val_acc: 0.8932\n",
      "Epoch 31/50\n",
      "93/93 [==============================] - 320s 3s/step - loss: 0.3150 - acc: 0.8871 - val_loss: 0.2839 - val_acc: 0.8975\n",
      "Epoch 32/50\n",
      "93/93 [==============================] - 304s 3s/step - loss: 0.3183 - acc: 0.8865 - val_loss: 0.2858 - val_acc: 0.8955\n",
      "Epoch 33/50\n",
      "93/93 [==============================] - 330s 4s/step - loss: 0.3154 - acc: 0.8857 - val_loss: 0.2881 - val_acc: 0.8934\n",
      "Epoch 34/50\n",
      "93/93 [==============================] - 278s 3s/step - loss: 0.3080 - acc: 0.8879 - val_loss: 0.2913 - val_acc: 0.8938\n",
      "Epoch 35/50\n",
      "93/93 [==============================] - 333s 4s/step - loss: 0.3118 - acc: 0.8872 - val_loss: 0.2833 - val_acc: 0.8953\n",
      "Epoch 36/50\n",
      "93/93 [==============================] - 291s 3s/step - loss: 0.3110 - acc: 0.8892 - val_loss: 0.2823 - val_acc: 0.9006\n",
      "Epoch 37/50\n",
      "93/93 [==============================] - 268s 3s/step - loss: 0.3068 - acc: 0.8888 - val_loss: 0.2741 - val_acc: 0.9029\n",
      "Epoch 38/50\n",
      "93/93 [==============================] - 260s 3s/step - loss: 0.3081 - acc: 0.8892 - val_loss: 0.2788 - val_acc: 0.8981\n",
      "Epoch 39/50\n",
      "93/93 [==============================] - 252s 3s/step - loss: 0.3005 - acc: 0.8925 - val_loss: 0.2740 - val_acc: 0.8990\n",
      "Epoch 40/50\n",
      "93/93 [==============================] - 252s 3s/step - loss: 0.3008 - acc: 0.8916 - val_loss: 0.2679 - val_acc: 0.9018\n",
      "Epoch 41/50\n",
      "93/93 [==============================] - 252s 3s/step - loss: 0.3029 - acc: 0.8923 - val_loss: 0.2676 - val_acc: 0.9024\n",
      "Epoch 42/50\n",
      "93/93 [==============================] - 251s 3s/step - loss: 0.3004 - acc: 0.8919 - val_loss: 0.2649 - val_acc: 0.9036\n",
      "Epoch 43/50\n",
      "93/93 [==============================] - 253s 3s/step - loss: 0.2931 - acc: 0.8936 - val_loss: 0.2653 - val_acc: 0.9039\n",
      "Epoch 44/50\n",
      "93/93 [==============================] - 252s 3s/step - loss: 0.2999 - acc: 0.8927 - val_loss: 0.2621 - val_acc: 0.9050\n",
      "Epoch 45/50\n",
      "93/93 [==============================] - 252s 3s/step - loss: 0.2956 - acc: 0.8924 - val_loss: 0.2789 - val_acc: 0.8988\n",
      "Epoch 46/50\n",
      "93/93 [==============================] - 254s 3s/step - loss: 0.2896 - acc: 0.8947 - val_loss: 0.2520 - val_acc: 0.9057\n",
      "Epoch 47/50\n",
      "93/93 [==============================] - 252s 3s/step - loss: 0.2922 - acc: 0.8963 - val_loss: 0.2690 - val_acc: 0.9004\n",
      "Epoch 48/50\n",
      "93/93 [==============================] - 253s 3s/step - loss: 0.2916 - acc: 0.8959 - val_loss: 0.2522 - val_acc: 0.9085\n",
      "Epoch 49/50\n",
      "93/93 [==============================] - 247s 3s/step - loss: 0.2887 - acc: 0.8961 - val_loss: 0.2597 - val_acc: 0.9032\n",
      "Epoch 50/50\n",
      "93/93 [==============================] - 131s 1s/step - loss: 0.2860 - acc: 0.8982 - val_loss: 0.2722 - val_acc: 0.9017\n"
     ]
    },
    {
     "data": {
      "text/plain": [
       "<keras.callbacks.History at 0x7fecf822f2b0>"
      ]
     },
     "execution_count": 33,
     "metadata": {},
     "output_type": "execute_result"
    }
   ],
   "source": [
    "cnn3.fit_generator(batches, steps_per_epoch=np.ceil(48000//batch_size), epochs=50, \n",
    "                    validation_data=val_batches, validation_steps=12000//batch_size, use_multiprocessing=False)"
   ]
  },
  {
   "cell_type": "code",
   "execution_count": 34,
   "metadata": {},
   "outputs": [
    {
     "name": "stdout",
     "output_type": "stream",
     "text": [
      "Test loss: 0.20138074437975884\n",
      "Test accuracy: 0.9269\n"
     ]
    }
   ],
   "source": [
    "score = cnn3.evaluate(x_test, y_test, verbose=0)\n",
    "print('Test loss:', score[0])\n",
    "print('Test accuracy:', score[1])"
   ]
  },
  {
   "cell_type": "code",
   "execution_count": null,
   "metadata": {},
   "outputs": [],
   "source": []
  }
 ],
 "metadata": {
  "kernelspec": {
   "display_name": "Python 3",
   "language": "python",
   "name": "python3"
  },
  "language_info": {
   "codemirror_mode": {
    "name": "ipython",
    "version": 3
   },
   "file_extension": ".py",
   "mimetype": "text/x-python",
   "name": "python",
   "nbconvert_exporter": "python",
   "pygments_lexer": "ipython3",
   "version": "3.7.3"
  }
 },
 "nbformat": 4,
 "nbformat_minor": 2
}
